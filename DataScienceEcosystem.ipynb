{
 "cells": [
  {
   "cell_type": "markdown",
   "id": "ead3dde2",
   "metadata": {},
   "source": [
    "# Data Science Tools and Ecosystem"
   ]
  },
  {
   "cell_type": "markdown",
   "id": "8b1e5716",
   "metadata": {},
   "source": [
    "In this notebook, Data Science Tools and Ecosystem are summarized."
   ]
  },
  {
   "cell_type": "markdown",
   "id": "96e8adf5",
   "metadata": {},
   "source": [
    "Objectives:\n",
    "- List some of the popular languages that Data Scientists\n",
    "- Mention some of the commonly used libraries used by Data Scientists\n",
    "- Give examples of evaluating arithmetic expressions in Python\n",
    "- Insert a markdown cell between cells\n",
    "- Use ordered and unordered lists in markdowns"
   ]
  },
  {
   "cell_type": "markdown",
   "id": "6590522b",
   "metadata": {},
   "source": [
    "Some of the popular languages that Data Scientists use are:\n",
    "1. Python\n",
    "2. R\n",
    "3. Java\n",
    "4. Scala"
   ]
  },
  {
   "cell_type": "markdown",
   "id": "603cddfd",
   "metadata": {},
   "source": [
    "Some of the commonly used libraries used by Data Scientists include:\n",
    "\n",
    "1. NumPy\n",
    "2. Pandas\n",
    "3. Scikit-learn\n",
    "4. Dplyr\n",
    "5. Caret\n",
    "6. Ggplot2"
   ]
  },
  {
   "cell_type": "markdown",
   "id": "4f47f973",
   "metadata": {},
   "source": [
    "Data Science Tools |\n",
    "-----| \n",
    "Jupyter Notebooks|\n",
    "R Studio|\n",
    "Sypder|\n",
    "\n"
   ]
  },
  {
   "cell_type": "markdown",
   "id": "33319b6b",
   "metadata": {},
   "source": [
    "### Below are a few examples of evaluating arithmetic expressions in Python."
   ]
  },
  {
   "cell_type": "code",
   "execution_count": 1,
   "id": "cb012750",
   "metadata": {},
   "outputs": [
    {
     "data": {
      "text/plain": [
       "17"
      ]
     },
     "execution_count": 1,
     "metadata": {},
     "output_type": "execute_result"
    }
   ],
   "source": [
    "#This a simple arithmetic expression to mutiply then add integers\n",
    "(3*4)+5"
   ]
  },
  {
   "cell_type": "code",
   "execution_count": 2,
   "id": "7115eca8",
   "metadata": {},
   "outputs": [
    {
     "data": {
      "text/plain": [
       "33.333333333333336"
      ]
     },
     "execution_count": 2,
     "metadata": {},
     "output_type": "execute_result"
    }
   ],
   "source": [
    "#This will convert 200 minutes to hours by diving by 60\n",
    "200/6"
   ]
  },
  {
   "cell_type": "markdown",
   "id": "8f78baf7",
   "metadata": {},
   "source": [
    "## Author\n",
    "Pamela Yusuf"
   ]
  },
  {
   "cell_type": "code",
   "execution_count": null,
   "id": "788e12ea",
   "metadata": {},
   "outputs": [],
   "source": []
  }
 ],
 "metadata": {
  "kernelspec": {
   "display_name": "Python 3 (ipykernel)",
   "language": "python",
   "name": "python3"
  },
  "language_info": {
   "codemirror_mode": {
    "name": "ipython",
    "version": 3
   },
   "file_extension": ".py",
   "mimetype": "text/x-python",
   "name": "python",
   "nbconvert_exporter": "python",
   "pygments_lexer": "ipython3",
   "version": "3.9.7"
  }
 },
 "nbformat": 4,
 "nbformat_minor": 5
}
